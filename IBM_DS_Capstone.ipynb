{
 "cells": [
  {
   "cell_type": "markdown",
   "metadata": {
    "collapsed": true
   },
   "source": [
    "# Capstone Project - Predictive Analysis of Singapore's Housing Price (week 1)\n",
    "### Applied Data Science Capstone by IBM/Coursera"
   ]
  },
  {
   "cell_type": "markdown",
   "metadata": {},
   "source": [
    "## Table of contents\n",
    "* [Introduction: Business Problem](#introduction)\n",
    "* [Data](#data)"
   ]
  },
  {
   "cell_type": "markdown",
   "metadata": {},
   "source": [
    "## Introduction: Business Problem <a name=\"introduction\"></a>"
   ]
  },
  {
   "cell_type": "markdown",
   "metadata": {},
   "source": [
    "Singapore is one of the largest metropolises in the world where over 5 million people live and 2nd densed country in the world with 7,804 persons per square kilometer. Singapore are subdivided into 28 districts in total. As a potential property investor in Singapore, identifying underpriced and overpirced properties is crucial. The property prices are well-known to correlate with three major factors: 1) type property tenure, 2) distance from city central area, and 3) proximity with major shopping/restaurant areas.\n",
    "\n",
    "In this project, I will first gather these three factors and current housing prices. Then, I will derive housing prices formula based on these three factors. Based on the equation, I will shortlist top ten undervalued locations (outliers) for further investigation."
   ]
  },
  {
   "cell_type": "markdown",
   "metadata": {},
   "source": [
    "## Data <a name=\"data\"></a>"
   ]
  },
  {
   "cell_type": "markdown",
   "metadata": {},
   "source": [
    "Based on definition of our problem, factors that will influence our decission are:\n",
    "* recent property price in various neighbors using **webscraping from websites**\n",
    "* estates' locations and driving distances from city central area using **GoogleMap API**\n",
    "* proximity with major shopping areas using **FourSquare API**"
   ]
  },
  {
   "cell_type": "code",
   "execution_count": null,
   "metadata": {},
   "outputs": [],
   "source": []
  }
 ],
 "metadata": {
  "kernelspec": {
   "display_name": "Python 3.5",
   "language": "python",
   "name": "python3"
  },
  "language_info": {
   "codemirror_mode": {
    "name": "ipython",
    "version": 3
   },
   "file_extension": ".py",
   "mimetype": "text/x-python",
   "name": "python",
   "nbconvert_exporter": "python",
   "pygments_lexer": "ipython3",
   "version": "3.5.5"
  }
 },
 "nbformat": 4,
 "nbformat_minor": 1
}
